{
 "cells": [
  {
   "cell_type": "markdown",
   "metadata": {},
   "source": [
    "# Lab-6"
   ]
  },
  {
   "cell_type": "code",
   "execution_count": 28,
   "metadata": {},
   "outputs": [
    {
     "name": "stdout",
     "output_type": "stream",
     "text": [
      "{}\n"
     ]
    }
   ],
   "source": [
    "## Q1. Create an empty dictionary\n",
    "\n",
    "d1={ }\n",
    "print(d1)"
   ]
  },
  {
   "cell_type": "code",
   "execution_count": 3,
   "metadata": {},
   "outputs": [
    {
     "name": "stdout",
     "output_type": "stream",
     "text": [
      "{'A': '10', 'B': '20'}\n"
     ]
    }
   ],
   "source": [
    "##Q2. Create the following dictionary \n",
    "##Key\tvalue\n",
    "##A\t10\n",
    "##B\t20 \n",
    "\n",
    "d1={\"A\":\"10\",\"B\":\"20\"}\n",
    "print(d1)\n"
   ]
  },
  {
   "cell_type": "code",
   "execution_count": 6,
   "metadata": {},
   "outputs": [
    {
     "name": "stdout",
     "output_type": "stream",
     "text": [
      "{'2': 'datatype1-integer', '2.12': 'datatype2-float', 'hello': 'datatype3-string', 'True': 'datatype4-boolean'}\n"
     ]
    }
   ],
   "source": [
    "##Q3. Create a dictionary with different datatypes for keys\n",
    "\n",
    "d1={\"2\":\"datatype1-integer\",\"2.12\":\"datatype2-float\",\"hello\":\"datatype3-string\",\"True\":\"datatype4-boolean\"}\n",
    "print(d1)"
   ]
  },
  {
   "cell_type": "code",
   "execution_count": 7,
   "metadata": {},
   "outputs": [
    {
     "name": "stdout",
     "output_type": "stream",
     "text": [
      "{'1': 'Abhay', '2': 'ankit', '3': 'Yash', '4': 'Gomsi'}\n"
     ]
    }
   ],
   "source": [
    "##Q4.Print all the items of a dictionary\n",
    "d1={\"1\":\"Abhay\",\"2\":\"ankit\",\"3\":\"Yash\",\"4\":\"Gomsi\"}\n",
    "print(d1)\n"
   ]
  },
  {
   "cell_type": "code",
   "execution_count": 29,
   "metadata": {},
   "outputs": [
    {
     "name": "stdout",
     "output_type": "stream",
     "text": [
      "{'1': 'Abhay', '2': 'ankit', '3': 'Yash', '4': 'Gomsi'}\n",
      "{'2': 'ankit', '3': 'Yash', '4': 'Gomsi'}\n"
     ]
    }
   ],
   "source": [
    "##Q5. Delete an element of a dictionary\n",
    "d1={\"1\":\"Abhay\",\"2\":\"ankit\",\"3\":\"Yash\",\"4\":\"Gomsi\"}\n",
    "print(d1)\n",
    "\n",
    "d1.pop(\"1\")\n",
    "print(d1)\n"
   ]
  },
  {
   "cell_type": "code",
   "execution_count": 9,
   "metadata": {},
   "outputs": [
    {
     "ename": "NameError",
     "evalue": "name 'thisdict' is not defined",
     "output_type": "error",
     "traceback": [
      "\u001b[1;31m---------------------------------------------------------------------------\u001b[0m",
      "\u001b[1;31mNameError\u001b[0m                                 Traceback (most recent call last)",
      "\u001b[1;32m<ipython-input-9-a1c7ef21c62a>\u001b[0m in \u001b[0;36m<module>\u001b[1;34m\u001b[0m\n\u001b[0;32m      2\u001b[0m \u001b[0mMycar\u001b[0m\u001b[1;33m=\u001b[0m \u001b[1;33m{\u001b[0m \u001b[1;34m\"brand\"\u001b[0m\u001b[1;33m:\u001b[0m \u001b[1;34m\"Maruti suzuki\"\u001b[0m\u001b[1;33m,\u001b[0m \u001b[1;34m\"model\"\u001b[0m\u001b[1;33m:\u001b[0m \u001b[1;34m\"LxI\"\u001b[0m\u001b[1;33m,\u001b[0m \u001b[1;34m\"year\"\u001b[0m\u001b[1;33m:\u001b[0m\u001b[1;34m\"2012\"\u001b[0m\u001b[1;33m}\u001b[0m\u001b[1;33m\u001b[0m\u001b[1;33m\u001b[0m\u001b[0m\n\u001b[0;32m      3\u001b[0m \u001b[1;32mdel\u001b[0m \u001b[0mMycar\u001b[0m\u001b[1;33m\u001b[0m\u001b[1;33m\u001b[0m\u001b[0m\n\u001b[1;32m----> 4\u001b[1;33m \u001b[0mprint\u001b[0m\u001b[1;33m(\u001b[0m\u001b[0mthisdict\u001b[0m\u001b[1;33m)\u001b[0m \u001b[1;31m#this will cause an error because \"thisdict\" no longer exists.\u001b[0m\u001b[1;33m\u001b[0m\u001b[1;33m\u001b[0m\u001b[0m\n\u001b[0m",
      "\u001b[1;31mNameError\u001b[0m: name 'thisdict' is not defined"
     ]
    }
   ],
   "source": [
    "##Q6. Delete full dictionary\n",
    "Mycar= { \"brand\": \"Maruti suzuki\", \"model\": \"LxI\", \"year\":\"2012\"}\n",
    "del Mycar\n",
    "print(thisdict) #this will cause an error because \"thisdict\" no longer exists."
   ]
  },
  {
   "cell_type": "code",
   "execution_count": 10,
   "metadata": {},
   "outputs": [
    {
     "name": "stdout",
     "output_type": "stream",
     "text": [
      "dict_keys(['brand', 'model', 'year'])\n"
     ]
    }
   ],
   "source": [
    "##Q7. Print a value for a key \n",
    "Mycar= { \"brand\": \"Maruti suzuki\", \"model\": \"LxI\", \"year\":\"2012\"}\n",
    "print(Mycar.keys())\n"
   ]
  },
  {
   "cell_type": "code",
   "execution_count": 12,
   "metadata": {},
   "outputs": [
    {
     "name": "stdout",
     "output_type": "stream",
     "text": [
      "Mustang\n"
     ]
    }
   ],
   "source": [
    "##Q8.To check if a key id present in a dictionary\n",
    "thisdict = {\n",
    "  \"brand\": \"Ford\",\n",
    "  \"model\": \"Mustang\",\n",
    "  \"year\": 1964\n",
    "}\n",
    "x = thisdict[\"model\"]\n",
    "print(x)"
   ]
  },
  {
   "cell_type": "code",
   "execution_count": 14,
   "metadata": {},
   "outputs": [
    {
     "name": "stdout",
     "output_type": "stream",
     "text": [
      "{'brand': 'Maruti suzuki', 'model': 'LxI', 'year': '2012'}\n",
      "{'brand': 'Maruti suzuki', 'model': 'LxI', 'year': '2012', 'color': 'White'}\n"
     ]
    }
   ],
   "source": [
    "##Q9.Update a value of a key\n",
    "Mycar= { \"brand\": \"Maruti suzuki\", \"model\": \"LxI\", \"year\":\"2012\"}\n",
    "print(Mycar)##no updates yet\n",
    "Mycar.update({\"color\": \"White\"})\n",
    "print(Mycar)##updted"
   ]
  },
  {
   "cell_type": "code",
   "execution_count": 15,
   "metadata": {},
   "outputs": [
    {
     "name": "stdout",
     "output_type": "stream",
     "text": [
      "{'brand': 'Maruti suzuki', 'model': 'LxI', 'year': '2012'}\n",
      "{'brand': 'Maruti suzuki', 'model': 'LxI', 'year': '2012', 'color': 'White'}\n"
     ]
    }
   ],
   "source": [
    "##Q10.Add a new key value pair\n",
    "Mycar= { \"brand\": \"Maruti suzuki\", \"model\": \"LxI\", \"year\":\"2012\"}\n",
    "print(Mycar)##no updates yet\n",
    "Mycar.update({\"color\": \"White\"})\n",
    "print(Mycar)##updted\n"
   ]
  },
  {
   "cell_type": "code",
   "execution_count": 17,
   "metadata": {},
   "outputs": [
    {
     "name": "stdout",
     "output_type": "stream",
     "text": [
      "{1: 1, 2: 4, 3: 9, 4: 16, 5: 25, 6: 36, 7: 49, 8: 64, 9: 81}\n"
     ]
    }
   ],
   "source": [
    "##Q11. Print dictionary for keys{1,10} and values as square of keys\n",
    "d=dict()\n",
    "for x in range(1,10):\n",
    "    d[x]=x**2\n",
    "print(d)  \n",
    " "
   ]
  },
  {
   "cell_type": "code",
   "execution_count": 19,
   "metadata": {},
   "outputs": [
    {
     "name": "stdout",
     "output_type": "stream",
     "text": [
      "{'member1': {'name': 'Batman', 'age': '40'}, 'member2': {'name': 'Superman', 'age': '38'}}\n"
     ]
    }
   ],
   "source": [
    "##Q12. Print nested dictionary\n",
    "friends={\"member1\":{\"name\":\"Batman\",\"age\":\"40\"},\"member2\":{\"name\":\"Superman\",\"age\":\"38\"}}\n",
    "print(friends)"
   ]
  },
  {
   "cell_type": "code",
   "execution_count": 20,
   "metadata": {},
   "outputs": [
    {
     "name": "stdout",
     "output_type": "stream",
     "text": [
      "{1: 10, 2: 20, 3: 30, 4: 40, 5: 50, 6: 60}\n"
     ]
    }
   ],
   "source": [
    "##Q13. Concatenate three dictionaries\n",
    "##Sample Dictionary :\n",
    "##dic1={1:10, 2:20}\n",
    "##dic2={3:30, 4:40}\n",
    "##dic3={5:50,6:60}\n",
    "##Expected Result : {1: 10, 2: 20, 3: 30, 4: 40, 5: 50, 6: 60}\n",
    "dic1={1:10, 2:20}\n",
    "dic2={3:30, 4:40}\n",
    "dic3={5:50,6:60}\n",
    "dic4 = {}\n",
    "for d in (dic1, dic2, dic3): dic4.update(d)\n",
    "print(dic4)"
   ]
  },
  {
   "cell_type": "code",
   "execution_count": 25,
   "metadata": {},
   "outputs": [
    {
     "name": "stdout",
     "output_type": "stream",
     "text": [
      "158\n"
     ]
    }
   ],
   "source": [
    "##Q14.Sum all the values of a dictionary\n",
    "d1 = {1: 10, 2: 20, 3: 30, 4: 40, 5: 50, 6: 60}\n",
    "total = 0\n",
    "for i in d1.values():\n",
    "    total += i\n",
    "print(\"The sum is:\",total)"
   ]
  },
  {
   "cell_type": "code",
   "execution_count": 26,
   "metadata": {},
   "outputs": [
    {
     "name": "stdout",
     "output_type": "stream",
     "text": [
      "20\n"
     ]
    }
   ],
   "source": [
    "##Q15.Accessing an element of a nested dictionary\n",
    "d1 = {'Names': {1: 'Abhay',2: 'Yash',3: 'Ankit' },\n",
    "     'Age': {1: 20,2: 20,3: 20}}\n",
    "print(d1['Age'][1])"
   ]
  },
  {
   "cell_type": "code",
   "execution_count": 27,
   "metadata": {},
   "outputs": [
    {
     "name": "stdout",
     "output_type": "stream",
     "text": [
      "{1: 1, 2: 4, 3: 9, 4: 16, 5: 25, 6: 36, 7: 49, 8: 64, 9: 81, 10: 100, 11: 121, 12: 144, 13: 169, 14: 196, 15: 225}\n"
     ]
    }
   ],
   "source": [
    "##Q16.Write a Python script to print a dictionary where the keys are numbers between 1 and 15 (both included) and the values are square of keys.\n",
    "##Sample Dictionary\n",
    "##{1: 1, 2: 4, 3: 9, 4: 16, 5: 25, 6: 36, 7: 49, 8: 64, 9: 81, 10: 100, 11: 121, 12: 144, 13: 169, 14: 196, 15: 225}\n",
    "\n",
    "d=dict()\n",
    "for x in range(1,16):\n",
    "    d[x]=x**2\n",
    "print(d)  \n"
   ]
  },
  {
   "cell_type": "code",
   "execution_count": 30,
   "metadata": {},
   "outputs": [
    {
     "name": "stdout",
     "output_type": "stream",
     "text": [
      "{1: 1, 2: 1, 3: 2, 4: 6, 5: 24, 6: 120, 7: 720, 8: 5040, 9: 40320, 10: 362880}\n"
     ]
    }
   ],
   "source": [
    "##Q15. Insert factorial of keys in values. And print dictionary?\n",
    "d1 = {}\n",
    "\n",
    "def fact(i):\n",
    "    factorial = 1\n",
    "    for i in range(1,i):\n",
    "        factorial *= i\n",
    "    return factorial\n",
    "        \n",
    "for i in range(1,11):\n",
    "    d1[i] = fact(i)\n",
    "    \n",
    "print(d1)"
   ]
  },
  {
   "cell_type": "code",
   "execution_count": null,
   "metadata": {},
   "outputs": [],
   "source": []
  }
 ],
 "metadata": {
  "kernelspec": {
   "display_name": "Python 3",
   "language": "python",
   "name": "python3"
  },
  "language_info": {
   "codemirror_mode": {
    "name": "ipython",
    "version": 3
   },
   "file_extension": ".py",
   "mimetype": "text/x-python",
   "name": "python",
   "nbconvert_exporter": "python",
   "pygments_lexer": "ipython3",
   "version": "3.8.5"
  }
 },
 "nbformat": 4,
 "nbformat_minor": 4
}
