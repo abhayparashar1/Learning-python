{
 "cells": [
  {
   "cell_type": "markdown",
   "metadata": {},
   "source": [
    "## Lab4"
   ]
  },
  {
   "cell_type": "code",
   "execution_count": 2,
   "metadata": {},
   "outputs": [
    {
     "name": "stdout",
     "output_type": "stream",
     "text": [
      "('a', 'b', 'c')\n"
     ]
    }
   ],
   "source": [
    "##Q1. WAP to create a tuple.\n",
    "\n",
    "tup1=(\"a\",\"b\",\"c\")\n",
    "print(tup1)\n"
   ]
  },
  {
   "cell_type": "code",
   "execution_count": 3,
   "metadata": {},
   "outputs": [
    {
     "name": "stdout",
     "output_type": "stream",
     "text": [
      "('a', 1, 'mango')\n"
     ]
    }
   ],
   "source": [
    "##Q2. WAP to create a tuple with different data types.\n",
    "\n",
    "tup1=(\"a\",1,\"mango\")\n",
    "print(tup1)\n"
   ]
  },
  {
   "cell_type": "code",
   "execution_count": 4,
   "metadata": {},
   "outputs": [
    {
     "name": "stdout",
     "output_type": "stream",
     "text": [
      "1\n"
     ]
    }
   ],
   "source": [
    "##Q3. Wap to create a tuple with nos. and print one item.\n",
    "tup1=(0,1,2)\n",
    "print(tup1[1])\n"
   ]
  },
  {
   "cell_type": "code",
   "execution_count": 9,
   "metadata": {},
   "outputs": [
    {
     "name": "stdout",
     "output_type": "stream",
     "text": [
      "chess\n",
      "apple\n",
      "001\n"
     ]
    }
   ],
   "source": [
    "##Q4. WAP to unpack a tuple in several variables.\n",
    "tup1=(\"chess\",\"apple\",\"001\")\n",
    "(game,fruit,number)=tup1\n",
    "print(game)\n",
    "print(fruit)\n",
    "print(number)\n"
   ]
  },
  {
   "cell_type": "code",
   "execution_count": 12,
   "metadata": {},
   "outputs": [
    {
     "name": "stdout",
     "output_type": "stream",
     "text": [
      "('a', 'B', 'C', 'd')\n"
     ]
    }
   ],
   "source": [
    "##Q5. WAP to add an item into the tuple\n",
    "tup1=(\"a\",\"B\",\"C\")\n",
    "list1=list(tup1)\n",
    "list1.append(\"d\")\n",
    "tup2=tuple(list1)\n",
    "print(tup2)"
   ]
  },
  {
   "cell_type": "code",
   "execution_count": 43,
   "metadata": {},
   "outputs": [
    {
     "name": "stdout",
     "output_type": "stream",
     "text": [
      "ANGER\n"
     ]
    }
   ],
   "source": [
    "##Q6. WAP to convert a tuple into a string.\n",
    "tuple1=(\"A\",\"N\",\"G\",\"E\",\"R\")\n",
    "str = ''.join(tuple1)\n",
    "print(str)\n"
   ]
  },
  {
   "cell_type": "code",
   "execution_count": 11,
   "metadata": {},
   "outputs": [
    {
     "name": "stdout",
     "output_type": "stream",
     "text": [
      "4\n",
      "3\n"
     ]
    }
   ],
   "source": [
    "##Q7. WAP to get 4th element from start and from last.\n",
    "tup1=(1,2,3,4,56,6)\n",
    "print(tup1[3])\n",
    "print(tup1[-4])"
   ]
  },
  {
   "cell_type": "code",
   "execution_count": 65,
   "metadata": {},
   "outputs": [
    {
     "name": "stdout",
     "output_type": "stream",
     "text": [
      "('HELLO', 5, [], True)\n",
      "('HELLO', 5, [50], True)\n",
      "('HELLO', 5, [], True)\n"
     ]
    }
   ],
   "source": [
    "##Q8. WAP to find the colon of the tuple.\n",
    "from copy import deepcopy\n",
    "tuplex = (\"HELLO\", 5, [], True) \n",
    "print(tuplex)\n",
    "tuplex_colon = deepcopy(tuplex)\n",
    "tuplex_colon[2].append(50)\n",
    "print(tuplex_colon)\n",
    "print(tuplex)"
   ]
  },
  {
   "cell_type": "code",
   "execution_count": 13,
   "metadata": {},
   "outputs": [
    {
     "name": "stdout",
     "output_type": "stream",
     "text": [
      "2\n"
     ]
    }
   ],
   "source": [
    "##Q9. WAP to find the repeated no. of items inside the tuple.\n",
    "tup1=(\"a\",\"a\",\"c\",1,5)\n",
    "var=tup1.count(\"a\")\n",
    "print(var)"
   ]
  },
  {
   "cell_type": "code",
   "execution_count": 17,
   "metadata": {},
   "outputs": [
    {
     "name": "stdout",
     "output_type": "stream",
     "text": [
      "element exists at index =  1\n"
     ]
    }
   ],
   "source": [
    "##Q10. WAP to che k whether an element exists within a tuple.\n",
    "tup1=(\"a\",\"apple\",\"cat\",True,1098)\n",
    "var=tup1.index(\"apple\")\n",
    "print(\"element exists at index = \", var)"
   ]
  },
  {
   "cell_type": "code",
   "execution_count": 20,
   "metadata": {},
   "outputs": [
    {
     "name": "stdout",
     "output_type": "stream",
     "text": [
      "(1, 2, 3, 4, 5, 167)\n"
     ]
    }
   ],
   "source": [
    "##Q11. WAP to convert a list into tuple\n",
    "list1=[1,2,3,4,5,167]\n",
    "tup1=tuple(list1)\n",
    "print(tup1)"
   ]
  },
  {
   "cell_type": "code",
   "execution_count": 23,
   "metadata": {},
   "outputs": [
    {
     "name": "stdout",
     "output_type": "stream",
     "text": [
      "('superman',)\n"
     ]
    }
   ],
   "source": [
    "##Q12. WAP to remove an item from the tuple.\n",
    "tup1=(\"batman\",\"iron_man\",\"superman\")\n",
    "lis1=list(tup1)\n",
    "lis1.remove(lis1[0])\n",
    "lis1.remove(\"iron_man\")\n",
    "tup4=tuple(lis1)\n",
    "print(tup4)"
   ]
  },
  {
   "cell_type": "code",
   "execution_count": 27,
   "metadata": {},
   "outputs": [
    {
     "name": "stdout",
     "output_type": "stream",
     "text": [
      "(1, 2, 3, 4, 5)\n",
      "(2, 3, 4, 5)\n",
      "(3, 4)\n",
      "(5,)\n",
      "(1, 2, 3, 4)\n",
      "()\n"
     ]
    }
   ],
   "source": [
    "##Q13. WAP to slice a tuple.\n",
    "tuple1=(1,2,3,4,5)\n",
    "print(tuple1[0:])\n",
    "print(tuple1[1:5])\n",
    "print(tuple1[2:4])\n",
    "print(tuple1[-1:])\n",
    "print(tuple1[-5:-1])\n",
    "print(tuple1[-1:-3])"
   ]
  },
  {
   "cell_type": "code",
   "execution_count": 28,
   "metadata": {},
   "outputs": [
    {
     "name": "stdout",
     "output_type": "stream",
     "text": [
      "element exists at index =  3\n"
     ]
    }
   ],
   "source": [
    "##Q14. WAP to find the index of an item of a tuple.\n",
    "tup1=(\"a\",\"apple\",\"cat\",True,1098)\n",
    "var=tup1.index(True)\n",
    "print(\"element exists at index = \", var)"
   ]
  },
  {
   "cell_type": "code",
   "execution_count": 29,
   "metadata": {},
   "outputs": [
    {
     "name": "stdout",
     "output_type": "stream",
     "text": [
      "lenth of tup1=  5\n"
     ]
    }
   ],
   "source": [
    "##Q15. WAP to find the length of a tuple.\n",
    "tup1=(1,56,78,28,67)\n",
    "var1=len(tup1)\n",
    "print(\"lenth of tup1= \",var1)"
   ]
  },
  {
   "cell_type": "code",
   "execution_count": 42,
   "metadata": {},
   "outputs": [
    {
     "name": "stdout",
     "output_type": "stream",
     "text": [
      "('MANGO', 'RAM')\n",
      "('E', 'L', 'P', 'P', 'A')\n"
     ]
    }
   ],
   "source": [
    "##Q16. WAP to reverse a tuple.\n",
    "Tup1=(\"RAM\",\"MANGO\")\n",
    "Tup2=(\"APPLE\")\n",
    "tup1=reversed(Tup1)\n",
    "tup2=reversed(Tup2)\n",
    "print(tuple(tup1))\n",
    "print(tuple(tup2))"
   ]
  },
  {
   "cell_type": "code",
   "execution_count": null,
   "metadata": {},
   "outputs": [],
   "source": []
  },
  {
   "cell_type": "code",
   "execution_count": null,
   "metadata": {},
   "outputs": [],
   "source": []
  }
 ],
 "metadata": {
  "kernelspec": {
   "display_name": "Python 3",
   "language": "python",
   "name": "python3"
  },
  "language_info": {
   "codemirror_mode": {
    "name": "ipython",
    "version": 3
   },
   "file_extension": ".py",
   "mimetype": "text/x-python",
   "name": "python",
   "nbconvert_exporter": "python",
   "pygments_lexer": "ipython3",
   "version": "3.8.5"
  }
 },
 "nbformat": 4,
 "nbformat_minor": 4
}
