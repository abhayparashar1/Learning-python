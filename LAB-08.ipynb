{
 "cells": [
  {
   "cell_type": "markdown",
   "metadata": {},
   "source": [
    "### LAB 08"
   ]
  },
  {
   "cell_type": "code",
   "execution_count": 12,
   "metadata": {},
   "outputs": [
    {
     "name": "stdout",
     "output_type": "stream",
     "text": [
      "12\n",
      "2\n",
      "78\n"
     ]
    }
   ],
   "source": [
    "# WAP that create a class triangle and define two methods,create_triangle() and print_sides().\n",
    "class triangle:\n",
    "    x=0\n",
    "    y=0\n",
    "    z=0\n",
    "    def create_triangle(self, side1, side2, side3):\n",
    "        self.x=side1\n",
    "        self.y=side2\n",
    "        self.z=side3\n",
    "                \n",
    "    def print_sides(self):\n",
    "        print(self.x)\n",
    "        print(self.y)\n",
    "        print(self.z)\n",
    "        \n",
    "obj1=triangle()\n",
    "obj1.create_triangle(12,2,78)\n",
    "obj1.print_sides()"
   ]
  },
  {
   "cell_type": "code",
   "execution_count": 6,
   "metadata": {},
   "outputs": [
    {
     "name": "stdout",
     "output_type": "stream",
     "text": [
      "Enter the string :Abhay\n",
      "Abhay\n",
      "The entered string is:  Abhay\n",
      "None\n"
     ]
    }
   ],
   "source": [
    "# WAP to create a class with two methods get_String() and print_String().\n",
    "class string:\n",
    "    def __init__(st,x):\n",
    "        st.x = x\n",
    "    def get_string(st):\n",
    "    \n",
    "        return st.x\n",
    "    def print_string(st):\n",
    "        print(\"The entered string is: \", st.x)\n",
    "newString = string(str(input(\"Enter the string :\")))\n",
    "print(newString.get_string())\n",
    "print(newString.print_string())"
   ]
  },
  {
   "cell_type": "code",
   "execution_count": 13,
   "metadata": {},
   "outputs": [
    {
     "name": "stdout",
     "output_type": "stream",
     "text": [
      "24\n"
     ]
    }
   ],
   "source": [
    "# WAP to create a class Rectangle that takes the parameter length and width. The class should also contain a method for computing its perimeter.\n",
    "class Rectangle:\n",
    "    def __init__(side,l,w):\n",
    "        side.l = l\n",
    "        side.w = w\n",
    "    def Perimeter(side):\n",
    "        return 2*(side.l + side.w)\n",
    "\n",
    "newRectangle = Rectangle(7,5)\n",
    "    \n",
    "print(newRectangle.Perimeter())"
   ]
  },
  {
   "cell_type": "code",
   "execution_count": 8,
   "metadata": {},
   "outputs": [
    {
     "name": "stdout",
     "output_type": "stream",
     "text": [
      "12.56\n",
      "12.56\n"
     ]
    }
   ],
   "source": [
    "# WAP to create a class Circle that takes the parameter radius. The class should also contain two methods for computing its area & perimeter respectively. Use constructor to implement initialization of parameters\n",
    "class Circle:\n",
    "    def __init__(side,r):\n",
    "        side.radius = r\n",
    "    def Area(side):\n",
    "        return side.radius**2*3.14\n",
    "    def Perimeter(side):\n",
    "        return side.radius*2*3.14\n",
    "\n",
    "newCircle = Circle(2)\n",
    "    \n",
    "print(newCircle.Area())\n",
    "print(newCircle.Perimeter())"
   ]
  },
  {
   "cell_type": "code",
   "execution_count": 14,
   "metadata": {},
   "outputs": [
    {
     "name": "stdout",
     "output_type": "stream",
     "text": [
      "153.86\n",
      "43.96\n"
     ]
    }
   ],
   "source": [
    "# WAP to create a class Circle and initialize it with radius. Make two methods getArea and getCircumference inside this class.\n",
    "class Circle:\n",
    "    def __init__(side,r):\n",
    "        side.radius = r\n",
    "    def getArea(side):\n",
    "        return side.radius**2*3.14\n",
    "    def getCircumfrence(side):\n",
    "        return side.radius*2*3.14\n",
    "\n",
    "newCircle = Circle(7)\n",
    "    \n",
    "print(newCircle.getArea())\n",
    "print(newCircle.getCircumfrence())"
   ]
  },
  {
   "cell_type": "code",
   "execution_count": 10,
   "metadata": {},
   "outputs": [
    {
     "name": "stdout",
     "output_type": "stream",
     "text": [
      "The temperature in fahrenheit is\n",
      "93.2\n",
      "The temperature in celsius is\n",
      "13.333333333333334\n"
     ]
    }
   ],
   "source": [
    "# WAP to create a class Temperature. Make two methods: (i) convertFahrenheit - It will take Celsius and will print it into Fahrenheit. (ii) convertCelsius - It will take Fahrenheit and will convert it into Celsius.\n",
    "class Temperature:\n",
    "    def __init__(temp,c,f):\n",
    "        temp.c = c\n",
    "        temp.f = f\n",
    "    def convertFahrenheit(temp):\n",
    "        print(\"The temperature in fahrenheit is\")\n",
    "        return  (temp.c* 1.8) + 32\n",
    "    def convertCelsius(temp):\n",
    "        print(\"The temperature in celsius is\")\n",
    "        return  (temp.f - 32) * 5/9\n",
    "\n",
    "newTemp = Temperature(34,56)\n",
    "    \n",
    "print(newTemp.convertFahrenheit())\n",
    "print(newTemp.convertCelsius())"
   ]
  },
  {
   "cell_type": "code",
   "execution_count": 15,
   "metadata": {},
   "outputs": [
    {
     "name": "stdout",
     "output_type": "stream",
     "text": [
      "Name of the student :  Abhay\n",
      "Roll no. of the student :  19\n",
      "None\n",
      "Enter the class of the student :Abhay\n",
      "Abhay\n",
      "Enter the marks in English :87\n",
      "Enter the marks in Maths :94\n",
      "Enter the marks in Science :87\n",
      "The marks of Abhay in English,Maths,Science are : 87 94 87\n",
      "None\n"
     ]
    }
   ],
   "source": [
    "# WAP to create a Student class and initialize it with name and roll number. Make methods to: Display - It should display all information’s of the student. SetAge - It should assign age to student. SetMarks - It should assign marks to the student.\n",
    "class Student:\n",
    "    def __init__(self,name,roll_no):\n",
    "        self.name = name\n",
    "        self.roll_no = roll_no\n",
    "    def display(self):\n",
    "        print(\"Name of the student : \",self.name)\n",
    "        print(\"Roll no. of the student : \",self.roll_no)\n",
    "   \n",
    "    def setAge(self):\n",
    "        x = input(\"Enter the class of the student :\")\n",
    "        return x\n",
    "    def setMarks(self):\n",
    "        a = input(\"Enter the marks in English :\")\n",
    "        b = input(\"Enter the marks in Maths :\")\n",
    "        c = input(\"Enter the marks in Science :\")\n",
    "        d = print(\"The marks of\",self.name, \"in English,Maths,Science are :\",a,b,c)\n",
    "        return d\n",
    "\n",
    "\n",
    "Profile = Student(\"Abhay\",19)\n",
    "    \n",
    "print(Profile.display())\n",
    "print(Profile.setAge())\n",
    "print(Profile.setMarks())"
   ]
  },
  {
   "cell_type": "code",
   "execution_count": 16,
   "metadata": {},
   "outputs": [
    {
     "name": "stdout",
     "output_type": "stream",
     "text": [
      "Enter the string : elephant\n",
      "The string entered is  elephant\n",
      "tnahpele\n"
     ]
    }
   ],
   "source": [
    "# Write a Python class to reverse a string word by word.\n",
    "class reverse:\n",
    "    def __init__(rev,s):\n",
    "        rev.s = s\n",
    "    def rev(rev):\n",
    "        print(\"The string entered is \",rev.s )\n",
    "        return  rev.s[::-1]\n",
    "        print(\"The reversed string is\",y )\n",
    "string = reverse( str(input(\"Enter the string : \")))\n",
    "        \n",
    "print(string.rev())"
   ]
  },
  {
   "cell_type": "code",
   "execution_count": null,
   "metadata": {},
   "outputs": [],
   "source": []
  },
  {
   "cell_type": "code",
   "execution_count": null,
   "metadata": {},
   "outputs": [],
   "source": []
  }
 ],
 "metadata": {
  "kernelspec": {
   "display_name": "Python 3",
   "language": "python",
   "name": "python3"
  },
  "language_info": {
   "codemirror_mode": {
    "name": "ipython",
    "version": 3
   },
   "file_extension": ".py",
   "mimetype": "text/x-python",
   "name": "python",
   "nbconvert_exporter": "python",
   "pygments_lexer": "ipython3",
   "version": "3.8.5"
  }
 },
 "nbformat": 4,
 "nbformat_minor": 4
}
