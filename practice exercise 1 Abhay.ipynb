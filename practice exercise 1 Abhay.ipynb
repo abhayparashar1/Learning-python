{
 "cells": [
  {
   "cell_type": "markdown",
   "metadata": {},
   "source": [
    "## Q1 What is python?\n",
    "## ans1. Python is a programming language for development , software development and mathematical operations"
   ]
  },
  {
   "cell_type": "markdown",
   "metadata": {},
   "source": [
    "## Q2. Give 5 areas where python is used.\n",
    "## ans2. web development, machine learning, network programming, desktop applications,Games and 3d graphics "
   ]
  },
  {
   "cell_type": "code",
   "execution_count": 4,
   "metadata": {},
   "outputs": [
    {
     "name": "stdout",
     "output_type": "stream",
     "text": [
      "10 is greater than 2\n"
     ]
    }
   ],
   "source": [
    "## Q3. WAP to check if 10>2 or not?\n",
    "if (10>2):\n",
    "    print(\"10 is greater than 2\")\n",
    "else: (\"wrong condition\")"
   ]
  },
  {
   "cell_type": "code",
   "execution_count": 6,
   "metadata": {},
   "outputs": [
    {
     "name": "stdout",
     "output_type": "stream",
     "text": [
      "5\n",
      "hello\n",
      "True\n"
     ]
    }
   ],
   "source": [
    "## Q4. WAP to print 3 variables x,y,z having int, string and boolean.\n",
    "x=5\n",
    "y=\"hello\"\n",
    "z= True\n",
    "print(x)\n",
    "print(y)\n",
    "print(z)"
   ]
  },
  {
   "cell_type": "code",
   "execution_count": 12,
   "metadata": {},
   "outputs": [
    {
     "name": "stdout",
     "output_type": "stream",
     "text": [
      "5 5.0 hello\n"
     ]
    }
   ],
   "source": [
    "## Q5. WAP to print 3 variables x,y,z using assignment with multiple values.\n",
    "x, y, z= 5,5.0,\"hello\"\n",
    "print(x, y, z)\n"
   ]
  },
  {
   "cell_type": "code",
   "execution_count": 13,
   "metadata": {},
   "outputs": [],
   "source": [
    "## Q6. Comment the Q1 and Q2 with their respective questions.\n",
    "##Q1 What is python?\n",
    "##ans1. Python is a programming language for development , software development and mathematical operations\n",
    "\n",
    "##Q2. Give 5 areas where python is used.\n",
    "##ans2. web development, machine learning, network programming, desktop applications,Games and 3d graphics¶\n",
    "\n"
   ]
  },
  {
   "cell_type": "code",
   "execution_count": 14,
   "metadata": {},
   "outputs": [
    {
     "name": "stdout",
     "output_type": "stream",
     "text": [
      "<class 'int'>\n",
      "<class 'str'>\n",
      "<class 'bool'>\n"
     ]
    }
   ],
   "source": [
    "## Q7. Print the data type of varaiable name in Q4.\n",
    "x=5\n",
    "y=\"hello\"\n",
    "z= True\n",
    "print(type(x))\n",
    "print(type(y))\n",
    "print(type(z))\n",
    "\n"
   ]
  },
  {
   "cell_type": "code",
   "execution_count": 19,
   "metadata": {},
   "outputs": [
    {
     "name": "stdout",
     "output_type": "stream",
     "text": [
      "12\n",
      "computer\n",
      "True\n"
     ]
    }
   ],
   "source": [
    "## Q8 Print the variables fulfilling the criteria.\n",
    "_sd=12\n",
    "gh_k=\"computer\"\n",
    "_Ab_1=True\n",
    "print(_sd)\n",
    "print(gh_k)\n",
    "print(_Ab_1)\n",
    "\n",
    "\n",
    "\n"
   ]
  },
  {
   "cell_type": "code",
   "execution_count": 18,
   "metadata": {},
   "outputs": [
    {
     "name": "stdout",
     "output_type": "stream",
     "text": [
      "hello world\n"
     ]
    }
   ],
   "source": [
    "## Q9. wap to print multiple values.\n",
    "print(\"hello\"+\" \"+\"world\")"
   ]
  },
  {
   "cell_type": "code",
   "execution_count": 26,
   "metadata": {},
   "outputs": [
    {
     "name": "stdout",
     "output_type": "stream",
     "text": [
      "<class 'str'>\n",
      "<class 'int'>\n",
      "<class 'float'>\n",
      "<class 'list'>\n",
      "<class 'tuple'>\n",
      "<class 'range'>\n",
      "<class 'dict'>\n",
      "<class 'bool'>\n",
      "<class 'list'>\n",
      "<class 'tuple'>\n",
      "<class 'set'>\n",
      "<class 'bool'>\n"
     ]
    }
   ],
   "source": [
    "## Q10. Print the data types for.\n",
    "a=\"hello\"\n",
    "b=20\n",
    "c=20.5\n",
    "d=[\"x\",\"y\", \"z\"]\n",
    "e=(\"x\",\"y\", \"z\")\n",
    "f=range(b)\n",
    "g={1:\"apple\",2:\"mango\"}\n",
    "h=True\n",
    "i=list((\"x\",\"y\", \"z\"))\n",
    "j=tuple((\"x\",\"y\", \"z\"))\n",
    "k=set((\"x\",\"y\", \"z\"))\n",
    "l=bool(5)\n",
    "\n",
    "print(type(a))\n",
    "print(type(b))\n",
    "print(type(c))\n",
    "print(type(d))\n",
    "print(type(e))\n",
    "print(type(f))\n",
    "print(type(g))\n",
    "print(type(h))\n",
    "print(type(i))\n",
    "print(type(j))\n",
    "print(type(k))\n",
    "print(type(l))\n",
    "\n"
   ]
  },
  {
   "cell_type": "code",
   "execution_count": 27,
   "metadata": {},
   "outputs": [
    {
     "name": "stdout",
     "output_type": "stream",
     "text": [
      "Hello\n",
      "o l l\n",
      "H e l\n"
     ]
    }
   ],
   "source": [
    "## Q11.Print 3rd, 4th and 5th character from last and .Print 3rd, 4th and 5th character from start in Hello\n",
    "x=\"Hello\"\n",
    "print(x)\n",
    "##3rd, 4th and 5th character from last\n",
    "print(x[-1],x[-2],x[-3])\n",
    "## 3rd, 4th and 5th character from start in Hello\n",
    "print(x[0],x[1],x[2])\n"
   ]
  },
  {
   "cell_type": "code",
   "execution_count": null,
   "metadata": {},
   "outputs": [],
   "source": []
  }
 ],
 "metadata": {
  "kernelspec": {
   "display_name": "Python 3",
   "language": "python",
   "name": "python3"
  },
  "language_info": {
   "codemirror_mode": {
    "name": "ipython",
    "version": 3
   },
   "file_extension": ".py",
   "mimetype": "text/x-python",
   "name": "python",
   "nbconvert_exporter": "python",
   "pygments_lexer": "ipython3",
   "version": "3.8.5"
  }
 },
 "nbformat": 4,
 "nbformat_minor": 4
}
