{
 "cells": [
  {
   "cell_type": "markdown",
   "metadata": {},
   "source": [
    "## LAB-2\n"
   ]
  },
  {
   "cell_type": "code",
   "execution_count": 1,
   "metadata": {},
   "outputs": [
    {
     "name": "stdout",
     "output_type": "stream",
     "text": [
      "Even number\n"
     ]
    }
   ],
   "source": [
    "##Q1.WAP to check whether a no. is even or odd.\n",
    "x=3456\n",
    "if(x%2==0):\n",
    "    print(\"Even number\")\n",
    "else:print(\"odd Number\")"
   ]
  },
  {
   "cell_type": "code",
   "execution_count": 2,
   "metadata": {},
   "outputs": [
    {
     "name": "stdout",
     "output_type": "stream",
     "text": [
      "Enter a Year: 2002\n",
      "not leap\n"
     ]
    }
   ],
   "source": [
    "##Q2.WAP to check whether an entered year is leap year or not.\n",
    "year = int(input(\"Enter a Year: \"))\n",
    "if(year%4==0):\n",
    "    print(\"Leap\")\n",
    "else:print(\"not leap\")\n"
   ]
  },
  {
   "cell_type": "code",
   "execution_count": 1,
   "metadata": {},
   "outputs": [
    {
     "name": "stdout",
     "output_type": "stream",
     "text": [
      "Enter a character: a\n",
      "a is a Vowel\n"
     ]
    }
   ],
   "source": [
    "##Q3. Wap to check whether a character is a vowel or consonant\n",
    "ch = input(\"Enter a character: \")\n",
    "\n",
    "if(ch=='A' or ch=='a' or ch=='E' or ch =='e' or ch=='I'\n",
    " or ch=='i' or ch=='O' or ch=='o' or ch=='U' or ch=='u'):\n",
    "    print(ch, \"is a Vowel\")\n",
    "else:\n",
    "    print(ch, \"is a Consonant\")\n"
   ]
  },
  {
   "cell_type": "code",
   "execution_count": 8,
   "metadata": {},
   "outputs": [
    {
     "name": "stdout",
     "output_type": "stream",
     "text": [
      "Enter first number: 23\n",
      "Enter second number: 234\n",
      "smallest no = 23.0\n"
     ]
    }
   ],
   "source": [
    "##Q4 Write a program to find the smallest of two numbers.\n",
    "num1 = float(input(\"Enter first number: \"))\n",
    "num2 = float(input(\"Enter second number: \"))\n",
    "if(num1 < num2):\n",
    "    small = num1\n",
    "else:\n",
    "    small = num2\n",
    "\n",
    "print(\"smallest no\",\"=\",small)"
   ]
  },
  {
   "cell_type": "code",
   "execution_count": 2,
   "metadata": {},
   "outputs": [
    {
     "name": "stdout",
     "output_type": "stream",
     "text": [
      "enter a number4\n",
      "factorial of 4 = 24\n"
     ]
    }
   ],
   "source": [
    "##Q5 WAP to find factorial of a no.\n",
    "num=int(input(\"enter a number\"))\n",
    "f=1\n",
    "for i in range(1,num+1):\n",
    "  f=f*i\n",
    "print ('factorial of', num, '=',f)"
   ]
  },
  {
   "cell_type": "code",
   "execution_count": 14,
   "metadata": {},
   "outputs": [
    {
     "name": "stdout",
     "output_type": "stream",
     "text": [
      "enter numnber of rows5\n",
      "    * \n",
      "\n",
      "   * * \n",
      "\n",
      "  * * * \n",
      "\n",
      " * * * * \n",
      "\n",
      "* * * * * \n",
      "\n"
     ]
    }
   ],
   "source": [
    "##Q6 WAP to print the star pyramid.\n",
    "a=int(input(\"enter numnber of rows\"))\n",
    "for i in range(1,a+1):\n",
    "    print(\" \"*(a-i),end=\"\")\n",
    "    for j in range(0,i):\n",
    "        print(\"*\",end=\" \")\n",
    "    print(\"\\n\")\n",
    "\n",
    "\n"
   ]
  },
  {
   "cell_type": "code",
   "execution_count": 13,
   "metadata": {},
   "outputs": [
    {
     "name": "stdout",
     "output_type": "stream",
     "text": [
      "Fibonacci sequence:\n",
      "0 , 1, 1 , 2 , 3 , 5 , 8 , 13 , "
     ]
    }
   ],
   "source": [
    "##Q7 WAP to print this series 1 1 2 3 5 8 13\n",
    "\n",
    "n1 = 0  \n",
    "n2 = 1  \n",
    "count = 2  \n",
    "print(\"Fibonacci sequence:\")  \n",
    "print(n1,\",\",n2,end=', ')  \n",
    "while (count < 8):  \n",
    "       nth = n1 + n2  \n",
    "       print(nth,end=' , ')  \n",
    "       n1 = n2  \n",
    "       n2 = nth  \n",
    "       count += 1  \n"
   ]
  },
  {
   "cell_type": "code",
   "execution_count": 10,
   "metadata": {},
   "outputs": [
    {
     "name": "stdout",
     "output_type": "stream",
     "text": [
      "Enter number: 23\n",
      "PRIME\n"
     ]
    }
   ],
   "source": [
    "##Q8 Check whether a number is prime or not.\n",
    "x = int(input(\"Enter number: \"))\n",
    "y = 1\n",
    "for i in range(2,int(x/2)):\n",
    "    if x%i==0:\n",
    "        y=0\n",
    "        break\n",
    "\n",
    "if y==1 and x>=2:\n",
    "    print(\"PRIME\")\n",
    "else:\n",
    "    print(\"NOT PRIME\")"
   ]
  },
  {
   "cell_type": "code",
   "execution_count": 11,
   "metadata": {},
   "outputs": [
    {
     "name": "stdout",
     "output_type": "stream",
     "text": [
      "Addition\n",
      "Enter the number: 123\n",
      "Enter the number: 5895698\n",
      "Ans:  5895821\n",
      "Subtraction\n",
      "Enter the number: 12\n",
      "Enter the number: 34\n",
      "Ans:  -22\n",
      "Multiplication\n",
      "Enter the number: 33\n",
      "Enter the number: 667\n",
      "Ans:  22011\n",
      "Divison\n",
      "Enter the number: 22\n",
      "Enter the number: 11\n",
      "Ans:  2.0\n"
     ]
    }
   ],
   "source": [
    "##Q9 Make a Simple Calculator.\n",
    "print(\"Addition\")\n",
    "A = int(input('Enter the number: '))\n",
    "B = int(input('Enter the number: '))\n",
    "print('Answer: ',A+B)\n",
    "\n",
    "print(\"Subtraction\")\n",
    "a = int(input('Enter the number: '))\n",
    "b = int(input('Enter the number: '))\n",
    "\n",
    "print('Answer: ',a-b)\n",
    "\n",
    "print(\"Multiplication\")\n",
    "R = int(input('Enter the number: '))\n",
    "S = int(input('Enter the number: '))\n",
    "\n",
    "print('Answer: ',R*S)\n",
    "\n",
    "print(\"Divison\")\n",
    "r = int(input('Enter the number: '))\n",
    "s = int(input('Enter the number: '))\n",
    "\n",
    "print('Answer: ',r/s)"
   ]
  },
  {
   "cell_type": "code",
   "execution_count": null,
   "metadata": {},
   "outputs": [],
   "source": []
  }
 ],
 "metadata": {
  "kernelspec": {
   "display_name": "Python 3",
   "language": "python",
   "name": "python3"
  },
  "language_info": {
   "codemirror_mode": {
    "name": "ipython",
    "version": 3
   },
   "file_extension": ".py",
   "mimetype": "text/x-python",
   "name": "python",
   "nbconvert_exporter": "python",
   "pygments_lexer": "ipython3",
   "version": "3.8.5"
  }
 },
 "nbformat": 4,
 "nbformat_minor": 4
}
